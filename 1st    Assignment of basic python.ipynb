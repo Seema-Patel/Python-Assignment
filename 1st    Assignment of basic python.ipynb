{
 "cells": [
  {
   "cell_type": "markdown",
   "metadata": {},
   "source": [
    "# ASSIGNMENT --- 1"
   ]
  },
  {
   "cell_type": "markdown",
   "metadata": {},
   "source": [
    "Ans--1Q\n",
    "\n",
    "operators are --> *,-,/,+\n",
    "values are    -->'hello', -87.8,6"
   ]
  },
  {
   "cell_type": "markdown",
   "metadata": {},
   "source": [
    "Ans - 2Q\n",
    "\n",
    "spam   - it is variable, variable is a contaainer which hold actual value, whereas\n",
    "'spam' - it is a string, string is collection of character. It written inside quotes."
   ]
  },
  {
   "cell_type": "markdown",
   "metadata": {},
   "source": [
    "Ans - 3Q\n",
    "\n",
    "Three different data forms are - \n",
    "(a) integers \n",
    "(b) string\n",
    "(c) floating point numbers\n",
    "\n",
    "(a) integers - it is used to store the integral numbers.     \n",
    "               integers value can be any length such as 135560, 28748, -3435927, 9838648756487.\n",
    "               \n",
    "(b) string - string can be defined as the sequence of characters reprasented in the quotation marks in python.\n",
    "             We can use single , double, or triple quotes to define string\n",
    "             \n",
    "(c) floating point numbers - it is used to store float value like 9.878,3868.434\n"
   ]
  },
  {
   "cell_type": "markdown",
   "metadata": {},
   "source": [
    "Ans - 4Q.\n",
    "\n",
    "\n",
    "An expression is a combination of values, variables, and operator and calls to funtions. if you type an expression \n",
    "at the python prompt, the interpreter evaluates it and displays the result, which is always a value.\n",
    "All expression evaluate to a single value.\n",
    "\n",
    "ex-->\n",
    "      >>> 1+1\n",
    "      2\n",
    "      >>> len('hello')\n",
    "      5\n",
    "      "
   ]
  },
  {
   "cell_type": "markdown",
   "metadata": {},
   "source": [
    "Ans - 5q\n",
    "\n",
    "An expression evaluates to a single value whereas a statement does not evaluates a single value."
   ]
  },
  {
   "cell_type": "markdown",
   "metadata": {},
   "source": [
    "Ans - 6Q\n",
    "\n",
    "bacon variable contain 23.\n",
    "  \n",
    "  >>> bacon=22\n",
    "  >>> bacon+1\n",
    "  23"
   ]
  },
  {
   "cell_type": "markdown",
   "metadata": {},
   "source": [
    " Ans - 7Q\n",
    " \n",
    " \n",
    " the value of followinf terms are-->> 'spamspamspam'\n",
    " \n",
    "  >>> 'spam'+'spamspam'\n",
    "  'spamspamspam'\n",
    "  \n",
    "  >>> 'spam'*3\n",
    "  'spamspamspam'"
   ]
  },
  {
   "cell_type": "markdown",
   "metadata": {},
   "source": [
    "Ans - 8Q\n",
    "\n",
    "\n",
    "eggs is a true variable name whereas 100 is not because varible name can't start with numbers."
   ]
  },
  {
   "cell_type": "markdown",
   "metadata": {},
   "source": [
    "Ans - 9Q\n",
    "\n",
    "The int(), float(), and str() funtion will evaluate to the integer, floating point numbers and string version of the value pass to them."
   ]
  },
  {
   "cell_type": "markdown",
   "metadata": {},
   "source": [
    "Ans - 10Q\n",
    "\n",
    "'I have eaten' + 99 + 'burritos'\n",
    "\n",
    "the above expression causes of error because concatenation(+) operator can't work with combined data type.\n",
    "It always work with same data type like, 'spam' + 'spamspam' , 99+756+564"
   ]
  },
  {
   "cell_type": "code",
   "execution_count": null,
   "metadata": {},
   "outputs": [],
   "source": []
  }
 ],
 "metadata": {
  "kernelspec": {
   "display_name": "Python 3",
   "language": "python",
   "name": "python3"
  },
  "language_info": {
   "codemirror_mode": {
    "name": "ipython",
    "version": 3
   },
   "file_extension": ".py",
   "mimetype": "text/x-python",
   "name": "python",
   "nbconvert_exporter": "python",
   "pygments_lexer": "ipython3",
   "version": "3.8.8"
  }
 },
 "nbformat": 4,
 "nbformat_minor": 4
}
